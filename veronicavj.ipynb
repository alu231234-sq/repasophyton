{
  "nbformat": 4,
  "nbformat_minor": 0,
  "metadata": {
    "colab": {
      "provenance": [],
      "authorship_tag": "ABX9TyMBA9AHkSCsyqbE2t7+t0hM",
      "include_colab_link": true
    },
    "kernelspec": {
      "name": "python3",
      "display_name": "Python 3"
    },
    "language_info": {
      "name": "python"
    }
  },
  "cells": [
    {
      "cell_type": "markdown",
      "metadata": {
        "id": "view-in-github",
        "colab_type": "text"
      },
      "source": [
        "<a href=\"https://colab.research.google.com/github/alu231234-sq/repasophyton/blob/main/veronicavj.ipynb\" target=\"_parent\"><img src=\"https://colab.research.google.com/assets/colab-badge.svg\" alt=\"Open In Colab\"/></a>"
      ]
    },
    {
      "cell_type": "markdown",
      "source": [
        "programa 1 en hyton para imprimir el nombre con hola mundo"
      ],
      "metadata": {
        "id": "6ISjQqqg0KiF"
      }
    },
    {
      "cell_type": "code",
      "execution_count": 8,
      "metadata": {
        "colab": {
          "base_uri": "https://localhost:8080/"
        },
        "id": "gZfITTwoz7EH",
        "outputId": "43acbad5-bc12-4a55-833d-b9a3b61d1759"
      },
      "outputs": [
        {
          "name": "stdout",
          "output_type": "stream",
          "text": [
            "captura tu nombreg\n"
          ]
        }
      ],
      "source": [
        "print=(\"Hola mundo\")\n",
        "nombre=(input(\"captura tu nombre \"))\n",
        "print= ( nombre)"
      ]
    },
    {
      "cell_type": "markdown",
      "source": [
        "programa 2 capturar tu nombre paterno y materno e imprimir en pantalla"
      ],
      "metadata": {
        "id": "q0DGnQdk12TH"
      }
    },
    {
      "cell_type": "code",
      "source": [
        "n=input(\"ingresa tu nombre \")\n",
        "p=input(\"ingresa tu apellido paterno \")\n",
        "m=input(\"ingresa tu apellido materno \")\n",
        "print=(\"n+p+m\")"
      ],
      "metadata": {
        "colab": {
          "base_uri": "https://localhost:8080/"
        },
        "id": "CedUs7iN2BfO",
        "outputId": "3e92be56-14fe-468e-ce61-c9579f4810c1"
      },
      "execution_count": 5,
      "outputs": [
        {
          "name": "stdout",
          "output_type": "stream",
          "text": [
            "ingresa tu nombrev\n",
            "ingresa tu apellido paternoo\n",
            "ingresa tu apellido maternop\n"
          ]
        }
      ]
    }
  ]
}
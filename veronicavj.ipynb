{
  "nbformat": 4,
  "nbformat_minor": 0,
  "metadata": {
    "colab": {
      "provenance": [],
      "authorship_tag": "ABX9TyNoP+dTNnvjg2kAAw4M99UH",
      "include_colab_link": true
    },
    "kernelspec": {
      "name": "python3",
      "display_name": "Python 3"
    },
    "language_info": {
      "name": "python"
    }
  },
  "cells": [
    {
      "cell_type": "markdown",
      "metadata": {
        "id": "view-in-github",
        "colab_type": "text"
      },
      "source": [
        "<a href=\"https://colab.research.google.com/github/alu231234-sq/repasophyton/blob/main/veronicavj.ipynb\" target=\"_parent\"><img src=\"https://colab.research.google.com/assets/colab-badge.svg\" alt=\"Open In Colab\"/></a>"
      ]
    },
    {
      "cell_type": "markdown",
      "source": [
        "1- Realizar un programa que capture 2 numeros y realice las 4 operaciones basicas."
      ],
      "metadata": {
        "id": "DUMkin5WEQpM"
      }
    },
    {
      "cell_type": "code",
      "source": [
        "n1 = int(input(\"Ingrese el primer numero: \"))\n",
        "n2 = int(input(\"Ingrese el segundo numero: \"))\n",
        "print (\"suma = \", n1 + n2)\n",
        "print (\"resta = \", n1 - n2)\n",
        "print (\"multiplicacion = \",n1 * n2)\n",
        "print (\"division = \", n1/n2)"
      ],
      "metadata": {
        "colab": {
          "base_uri": "https://localhost:8080/"
        },
        "id": "myWUPgDpEWRC",
        "outputId": "9b38e5cc-966f-4a15-908b-6a57422174c3"
      },
      "execution_count": 2,
      "outputs": [
        {
          "output_type": "stream",
          "name": "stdout",
          "text": [
            "Ingrese el primer numero: 3\n",
            "Ingrese el segundo numero: 4\n",
            "suma =  7\n",
            "resta =  -1\n",
            "multiplicacion =  12\n",
            "division =  0.75\n"
          ]
        }
      ]
    },
    {
      "cell_type": "markdown",
      "source": [
        "2- Realizar un programa que capure una palabra y calcule el numero de caracteres que tiene mediante el teclado."
      ],
      "metadata": {
        "id": "1nu0fA4QEc-h"
      }
    },
    {
      "cell_type": "code",
      "execution_count": 1,
      "metadata": {
        "colab": {
          "base_uri": "https://localhost:8080/"
        },
        "id": "llyzAcDgEAaL",
        "outputId": "a3a3e430-5826-4585-efed-17a9168cecbd"
      },
      "outputs": [
        {
          "output_type": "stream",
          "name": "stdout",
          "text": [
            "captura un nombre Veronica\n",
            " el total de caracteres es \n",
            "8\n"
          ]
        }
      ],
      "source": [
        "nombre = input( \"captura un nombre \")\n",
        "p= len(nombre)\n",
        "print (\" el total de caracteres es \")\n",
        "print (p)"
      ]
    },
    {
      "cell_type": "markdown",
      "source": [
        "3- Realizar un programa que imprima los 7 dias de la semana."
      ],
      "metadata": {
        "id": "2bHwK8_mEnxA"
      }
    },
    {
      "cell_type": "code",
      "source": [
        "dias = [\"Lunes\", \"Martes\", \"Miercoles\", \"Jueves\", \"Viernes\", \"Sabado\", \"Domingo\"]\n",
        "for dia in dias:\n",
        "    print(dia)"
      ],
      "metadata": {
        "colab": {
          "base_uri": "https://localhost:8080/"
        },
        "id": "puYqSpEvEuHQ",
        "outputId": "bc9c0d34-bf66-4dfc-d9c9-404931d1e01b"
      },
      "execution_count": 3,
      "outputs": [
        {
          "output_type": "stream",
          "name": "stdout",
          "text": [
            "Lunes\n",
            "Martes\n",
            "Miercoles\n",
            "Jueves\n",
            "Viernes\n",
            "Sabado\n",
            "Domingo\n"
          ]
        }
      ]
    }
  ]
}